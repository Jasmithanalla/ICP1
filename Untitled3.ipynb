{
  "nbformat": 4,
  "nbformat_minor": 0,
  "metadata": {
    "colab": {
      "provenance": [],
      "authorship_tag": "ABX9TyNH9C1czR9kagxRuf6WS18b",
      "include_colab_link": true
    },
    "kernelspec": {
      "name": "python3",
      "display_name": "Python 3"
    },
    "language_info": {
      "name": "python"
    }
  },
  "cells": [
    {
      "cell_type": "markdown",
      "metadata": {
        "id": "view-in-github",
        "colab_type": "text"
      },
      "source": [
        "<a href=\"https://colab.research.google.com/github/Jasmithanalla/ICP1/blob/main/Untitled3.ipynb\" target=\"_parent\"><img src=\"https://colab.research.google.com/assets/colab-badge.svg\" alt=\"Open In Colab\"/></a>"
      ]
    },
    {
      "cell_type": "code",
      "execution_count": null,
      "metadata": {
        "id": "7NYoL_cFawd2"
      },
      "outputs": [],
      "source": []
    },
    {
      "cell_type": "code",
      "source": [
        "# Part (a): String manipulation\n",
        "# Input the string \"Python\" as a list of characters\n",
        "input_str = list(input(\"Enter the string (e.g., python): \"))\n",
        "\n",
        "# Delete at least 2 characters (let's remove characters at index 1 and 4 for example)\n",
        "# Make sure input is at least long enough\n",
        "if len(input_str) >= 5:\n",
        "    del input_str[4]  # Delete 5th character\n",
        "    del input_str[1]  # Delete 2nd character\n",
        "\n",
        "# Reverse the list\n",
        "input_str.reverse()\n",
        "\n",
        "# Print the resulting string\n",
        "result_str = ''.join(input_str)\n",
        "print(\"Modified and reversed string:\", result_str)\n",
        "\n",
        "\n",
        "# Part (b): Arithmetic operations\n",
        "# Take two numbers from the user\n",
        "num1 = float(input(\"Enter first number: \"))\n",
        "num2 = float(input(\"Enter second number: \"))\n",
        "\n",
        "# Perform arithmetic operations\n",
        "print(\"Addition:\", num1 + num2)\n",
        "print(\"Subtraction:\", num1 - num2)\n",
        "print(\"Multiplication:\", num1 * num2)\n",
        "\n",
        "# Avoid division by zero\n",
        "if num2 != 0:\n",
        "    print(\"Division:\", num1 / num2)\n",
        "else:\n",
        "    print(\"Division: Cannot divide by zero\")\n"
      ],
      "metadata": {
        "colab": {
          "base_uri": "https://localhost:8080/"
        },
        "id": "4E_KFBo9bjzU",
        "outputId": "664a4d11-5734-4504-a79e-a3cf9175cf76"
      },
      "execution_count": 1,
      "outputs": [
        {
          "output_type": "stream",
          "name": "stdout",
          "text": [
            "Enter the string (e.g., python): name\n",
            "Modified and reversed string: eman\n",
            "Enter first number: 10 \n",
            "Enter second number: 5\n",
            "Addition: 15.0\n",
            "Subtraction: 5.0\n",
            "Multiplication: 50.0\n",
            "Division: 2.0\n"
          ]
        }
      ]
    },
    {
      "cell_type": "code",
      "source": [
        "# Accept a sentence from the user\n",
        "sentence = input(\"Enter a sentence: \")\n",
        "\n",
        "# Replace all occurrences of 'python' with 'pythons'\n",
        "updated_sentence = sentence.replace('python', 'pythons')\n",
        "\n",
        "# Print the updated sentence\n",
        "print(\"Updated sentence:\", updated_sentence)\n",
        "\n"
      ],
      "metadata": {
        "colab": {
          "base_uri": "https://localhost:8080/"
        },
        "id": "2XpstCj-byzx",
        "outputId": "13d6ab3a-e2f3-408a-a6a9-ab4474ab5edc"
      },
      "execution_count": 3,
      "outputs": [
        {
          "output_type": "stream",
          "name": "stdout",
          "text": [
            "Enter a sentence: i like python\n",
            "Updated sentence: i like pythons\n"
          ]
        }
      ]
    },
    {
      "cell_type": "code",
      "source": [
        "# Accept class score from the user\n",
        "score = float(input(\"Enter your class score (0–100): \"))\n",
        "\n",
        "# Check and print the letter grade using if-elif-else statements\n",
        "if score >= 90 and score <= 100:\n",
        "    print(\"Your grade is: A\")\n",
        "elif score >= 80:\n",
        "    print(\"Your grade is: B\")\n",
        "elif score >= 70:\n",
        "    print(\"Your grade is: C\")\n",
        "elif score >= 60:\n",
        "    print(\"Your grade is: D\")\n",
        "elif score >= 0:\n",
        "    print(\"Your grade is: F\")\n",
        "else:\n",
        "    print(\"Invalid score. Please enter a value between 0 and 100.\")\n"
      ],
      "metadata": {
        "colab": {
          "base_uri": "https://localhost:8080/"
        },
        "id": "LyaJXYIwcLeZ",
        "outputId": "9797ccbf-b8d3-4f45-af57-3f64a9f01e16"
      },
      "execution_count": 4,
      "outputs": [
        {
          "output_type": "stream",
          "name": "stdout",
          "text": [
            "Enter your class score (0–100): 77\n",
            "Your grade is: C\n"
          ]
        }
      ]
    },
    {
      "cell_type": "code",
      "source": [
        "# Input list\n",
        "x = [23, 'Python', 23.98]\n",
        "\n",
        "# Print the original list\n",
        "print(x)\n",
        "\n",
        "# Create a list of types for each element in x\n",
        "types_list = [type(item) for item in x]\n",
        "\n",
        "# Print the list of types\n",
        "print(types_list)\n"
      ],
      "metadata": {
        "colab": {
          "base_uri": "https://localhost:8080/"
        },
        "id": "mLpjooYTcOcZ",
        "outputId": "39607767-fccd-41bd-ed90-521a0823ec4d"
      },
      "execution_count": 5,
      "outputs": [
        {
          "output_type": "stream",
          "name": "stdout",
          "text": [
            "[23, 'Python', 23.98]\n",
            "[<class 'int'>, <class 'str'>, <class 'float'>]\n"
          ]
        }
      ]
    },
    {
      "cell_type": "code",
      "source": [
        "# Given data\n",
        "IT_companies = {'Facebook', 'Google', 'Microsoft', 'Apple', 'IBM', 'Oracle', 'Amazon'}\n",
        "A = {19, 22, 24, 20, 25, 26}\n",
        "B = {19, 22, 20, 25, 26, 24, 28, 27}\n",
        "age = [22, 19, 24, 25, 26, 24, 25, 24]\n",
        "\n",
        "# 1. Find the length of the set IT_companies\n",
        "print(\"Length of IT_companies:\", len(IT_companies))\n",
        "\n",
        "# 2. Add 'Twitter' to IT_companies\n",
        "IT_companies.add('Twitter')\n",
        "print(\"After adding Twitter:\", IT_companies)\n",
        "\n",
        "# 3. Insert multiple IT companies at once\n",
        "IT_companies.update(['LinkedIn', 'Tesla', 'Netflix'])\n",
        "print(\"After adding multiple companies:\", IT_companies)\n",
        "\n",
        "# 4. Remove one of the companies from the set\n",
        "IT_companies.remove('IBM')  # will raise error if 'IBM' not in set\n",
        "print(\"After removing IBM:\", IT_companies)\n",
        "\n",
        "# 5. Difference between remove and discard\n",
        "print(\"\\nDifference between remove and discard:\")\n",
        "print(\"- remove() raises an error if the element is not found.\")\n",
        "print(\"- discard() does not raise an error if the element is not found.\")\n",
        "\n",
        "# Example:\n",
        "print(\"\\nTrying discard with non-existing element:\")\n",
        "IT_companies.discard('NonExistentCompany')  # No error\n",
        "\n",
        "# Uncommenting this will raise an error:\n",
        "# IT_companies.remove('NonExistentCompany')  # Raises KeyError\n",
        "\n",
        "# 6. Join A and B (union)\n",
        "print(\"\\nJoin A and B:\", A.union(B))\n",
        "\n",
        "# 7. Find A intersection B\n",
        "print(\"Intersection of A and B:\", A.intersection(B))\n",
        "\n",
        "# 8. Is A subset of B\n",
        "print(\"Is A subset of B?\", A.issubset(B))\n",
        "\n",
        "# 9. Are A and B disjoint sets\n",
        "print(\"Are A and B disjoint?\", A.isdisjoint(B))\n",
        "\n",
        "# 10. Join A with B and B with A (same as union)\n",
        "print(\"A union B:\", A.union(B))\n",
        "print(\"B union A:\", B.union(A))\n",
        "\n",
        "# 11. Symmetric difference between A and B\n",
        "print(\"Symmetric difference:\", A.symmetric_difference(B))\n",
        "\n",
        "# 12. Delete the sets completely\n",
        "del A\n",
        "del B\n",
        "# print(A)  # This would raise an error since A is deleted\n",
        "\n",
        "# 13. Convert ages to a set and compare length\n",
        "age_set = set(age)\n",
        "print(\"\\nOriginal age list:\", age)\n",
        "print(\"Converted age set:\", age_set)\n",
        "print(\"Length of age list:\", len(age))\n",
        "print(\"Length of age set (unique ages):\", len(age_set))\n"
      ],
      "metadata": {
        "colab": {
          "base_uri": "https://localhost:8080/"
        },
        "id": "NxZ52IMacUnT",
        "outputId": "0d171439-3b2d-454f-eec2-4ebbadd09d57"
      },
      "execution_count": 6,
      "outputs": [
        {
          "output_type": "stream",
          "name": "stdout",
          "text": [
            "Length of IT_companies: 7\n",
            "After adding Twitter: {'Facebook', 'Microsoft', 'Twitter', 'Apple', 'Amazon', 'Google', 'Oracle', 'IBM'}\n",
            "After adding multiple companies: {'Facebook', 'Apple', 'Google', 'Oracle', 'Microsoft', 'Amazon', 'IBM', 'Twitter', 'Netflix', 'LinkedIn', 'Tesla'}\n",
            "After removing IBM: {'Facebook', 'Apple', 'Google', 'Oracle', 'Microsoft', 'Amazon', 'Twitter', 'Netflix', 'LinkedIn', 'Tesla'}\n",
            "\n",
            "Difference between remove and discard:\n",
            "- remove() raises an error if the element is not found.\n",
            "- discard() does not raise an error if the element is not found.\n",
            "\n",
            "Trying discard with non-existing element:\n",
            "\n",
            "Join A and B: {19, 20, 22, 24, 25, 26, 27, 28}\n",
            "Intersection of A and B: {19, 20, 22, 24, 25, 26}\n",
            "Is A subset of B? True\n",
            "Are A and B disjoint? False\n",
            "A union B: {19, 20, 22, 24, 25, 26, 27, 28}\n",
            "B union A: {19, 20, 22, 24, 25, 26, 27, 28}\n",
            "Symmetric difference: {27, 28}\n",
            "\n",
            "Original age list: [22, 19, 24, 25, 26, 24, 25, 24]\n",
            "Converted age set: {19, 22, 24, 25, 26}\n",
            "Length of age list: 8\n",
            "Length of age set (unique ages): 5\n"
          ]
        }
      ]
    }
  ]
}